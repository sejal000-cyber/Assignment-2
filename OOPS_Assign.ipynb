{
  "nbformat": 4,
  "nbformat_minor": 0,
  "metadata": {
    "colab": {
      "provenance": []
    },
    "kernelspec": {
      "name": "python3",
      "display_name": "Python 3"
    },
    "language_info": {
      "name": "python"
    }
  },
  "cells": [
    {
      "cell_type": "code",
      "source": [],
      "metadata": {
        "id": "yPaG7BPvjHmg"
      },
      "execution_count": null,
      "outputs": []
    },
    {
      "cell_type": "markdown",
      "source": [
        "Que.:-What are the five concepts of object-oriented programming(OOP) ?\n",
        "\n",
        "Ans.: The five core concepts of object-oriented programming (OOP) are:\n",
        "\n",
        "1. Classes and Objects:\n",
        "\n",
        "A class is a blueprint for creating objects. It defines the properties and behaviors (methods) that the objects created from it will have.\n",
        "An object is an instance of a class, representing a specific entity with defined attributes and behaviors.\n",
        "\n",
        "2.Encapsulation:\n",
        "\n",
        "Encapsulation is the concept of bundling data (attributes) and methods that operate on the data into a single unit (class).\n",
        "It also restricts direct access to some components, which is achieved using access modifiers like private, public, and protected.\n",
        "\n",
        "3.Abstraction:\n",
        "\n",
        "Abstraction is the process of hiding complex implementation details and showing only the essential features of an object.\n",
        "This is often achieved through abstract classes or interfaces, allowing a simpler and more flexible code structure.  \n",
        "\n",
        "4.Inheritance:\n",
        "\n",
        "Inheritance is the mechanism by which a class (child or subclass) can inherit attributes and methods from another class (parent or superclass).\n",
        "It allows for code reuse and the creation of hierarchical relationships.\n",
        "\n",
        "5.Polymorphism:\n",
        "\n",
        "Polymorphism allows methods to do different things based on the object it is acting upon, even if they share the same name.\n",
        "This can be achieved through method overloading (same method name, different parameters) and method overriding (redefining a method in a subclass)."
      ],
      "metadata": {
        "id": "nS87XCIYjMBv"
      }
    },
    {
      "cell_type": "markdown",
      "source": [
        "Ques.:2 Write a python class for a 'Car' with attributes for 'make','model', and 'year'.Include a method to the car's information.\n",
        "\n",
        "Ans:"
      ],
      "metadata": {
        "id": "fDyXHfEDlqMD"
      }
    },
    {
      "cell_type": "code",
      "source": [
        "class Car:\n",
        "    def __init__(self, make, model, year):\n",
        "        self.make = make\n",
        "        self.model = model\n",
        "        self.year = year\n",
        "\n",
        "    def display_info(self):\n",
        "        print(f\"Car Information: {self.year} {self.make} {self.model}\")\n",
        "\n",
        "my_car = Car(\"Toyota\", \"Camry\", 2020)\n",
        "my_car.display_info()"
      ],
      "metadata": {
        "colab": {
          "base_uri": "https://localhost:8080/"
        },
        "id": "qU5Dy5QPm6hB",
        "outputId": "9e530c81-85a5-4ff7-aa7c-17f27fdda0a6"
      },
      "execution_count": null,
      "outputs": [
        {
          "output_type": "stream",
          "name": "stdout",
          "text": [
            "Car Information: 2020 Toyota Camry\n"
          ]
        }
      ]
    },
    {
      "cell_type": "markdown",
      "source": [
        "Ques:3 Explain the difference between instance methods and class methods.Provide an example of each.\n",
        "\n",
        "Ans. Instance methods and class methods are two different types of methods used in classes.\n",
        "\n",
        "1. Instance Methods\n",
        "\n",
        "Definition: An instance method is a method that operates on an instance of a class.\n",
        "\n",
        "Purpose: It can access and modify instance attributes (specific to each object).\n",
        "\n",
        "Self Parameter: It takes self as its first parameter, which represents the instance of the class.\n",
        "\n",
        "Usage: Instance methods are used to perform actions or calculations that depend on individual object attributes.\n",
        "\n",
        "Example of an Instance Method"
      ],
      "metadata": {
        "id": "o89j-72dnLNA"
      }
    },
    {
      "cell_type": "code",
      "source": [
        "class Car:\n",
        "    def __init__(self, make, model, year):\n",
        "        self.make = make\n",
        "        self.model = model\n",
        "        self.year = year\n",
        "\n",
        "    def display_info(self):  # Instance method\n",
        "        print(f\"{self.year} {self.make} {self.model}\")\n",
        "\n",
        "\n",
        "my_car = Car(\"Toyota\", \"Corolla\", 2022)\n",
        "my_car.display_info()"
      ],
      "metadata": {
        "colab": {
          "base_uri": "https://localhost:8080/"
        },
        "id": "pkrm72BCph3s",
        "outputId": "5dea2dcd-d31f-457d-df0d-98add426b5aa"
      },
      "execution_count": null,
      "outputs": [
        {
          "output_type": "stream",
          "name": "stdout",
          "text": [
            "2022 Toyota Corolla\n"
          ]
        }
      ]
    },
    {
      "cell_type": "markdown",
      "source": [
        "2. Class Methods\n",
        "\n",
        "Definition: A class method is a method that operates on the class itself rather than on individual instances.\n",
        "\n",
        "Purpose: It is used to access or modify class-level attributes shared across all instances of the class.\n",
        "\n",
        "Cls Parameter: It takes cls as its first parameter, which represents the class rather than any single instance.\n",
        "\n",
        "Usage: Class methods are typically used for actions or calculations that apply to the class as a whole.\n",
        "\n",
        "Decorator: Class methods are marked with the @classmethod decorator.\n",
        "\n",
        "Example of a Class Method"
      ],
      "metadata": {
        "id": "zNFad7Cap-7j"
      }
    },
    {
      "cell_type": "code",
      "source": [
        "class Car:\n",
        "    total_cars = 0  # Class attribute\n",
        "\n",
        "    def __init__(self, make, model, year):\n",
        "        self.make = make\n",
        "        self.model = model\n",
        "        self.year = year\n",
        "        Car.total_cars += 1\n",
        "\n",
        "    @classmethod\n",
        "    def get_total_cars(cls):  # Class method\n",
        "        print(f\"Total number of cars: {cls.total_cars}\")\n",
        "\n",
        "\n",
        "car1 = Car(\"Toyota\", \"Camry\", 2021)\n",
        "car2 = Car(\"Honda\", \"Civic\", 2023)\n",
        "\n",
        "Car.get_total_cars()"
      ],
      "metadata": {
        "colab": {
          "base_uri": "https://localhost:8080/"
        },
        "id": "Gb410E2FqOQ8",
        "outputId": "ead8ee0b-e639-43a4-c824-9e10db1bbc3c"
      },
      "execution_count": null,
      "outputs": [
        {
          "output_type": "stream",
          "name": "stdout",
          "text": [
            "Total number of cars: 2\n"
          ]
        }
      ]
    },
    {
      "cell_type": "markdown",
      "source": [
        "Ques.4 How does Python implement method overloading? Give an example.\n",
        "\n",
        "Ans.In Python, you cannot define multiple methods with the same name but different parameter lists. Instead, Python achieves similar functionality through default arguments, variable-length arguments (*args and **kwargs), and type checking within a single method definition.\n",
        "\n",
        "Example Using Default and Variable-Length Arguments\n"
      ],
      "metadata": {
        "id": "I_z4TnagqcHI"
      }
    },
    {
      "cell_type": "code",
      "source": [
        "class MathOperations:\n",
        "    def add(self, a, b=0, c=0):\n",
        "        return a + b + c\n",
        "\n",
        "# Creating an instance\n",
        "math = MathOperations()\n",
        "\n",
        "# Calling the method with different numbers of arguments\n",
        "print(math.add(5))\n",
        "print(math.add(5, 10))\n",
        "print(math.add(5, 10, 15))"
      ],
      "metadata": {
        "colab": {
          "base_uri": "https://localhost:8080/"
        },
        "id": "XX_c0MSHslA9",
        "outputId": "6bc99f95-e292-43f5-9b55-fa1ede63056a"
      },
      "execution_count": null,
      "outputs": [
        {
          "output_type": "stream",
          "name": "stdout",
          "text": [
            "5\n",
            "15\n",
            "30\n"
          ]
        }
      ]
    },
    {
      "cell_type": "markdown",
      "source": [
        "Example Using Type Checking\n",
        "\n",
        "You can also simulate method overloading by checking the types or lengths of arguments within a single method:"
      ],
      "metadata": {
        "id": "338X2_9wtJ6a"
      }
    },
    {
      "cell_type": "code",
      "source": [
        "class Printer:\n",
        "    def print_value(self, value):\n",
        "        if isinstance(value, int):\n",
        "            print(f\"Integer: {value}\")\n",
        "        elif isinstance(value, str):\n",
        "            print(f\"String: {value}\")\n",
        "        elif isinstance(value, list):\n",
        "            print(f\"List: {value}\")\n",
        "        else:\n",
        "            print(\"Unsupported type\")\n",
        "\n",
        "# Creating an instance\n",
        "printer = Printer()\n",
        "\n",
        "# Calling the method with different types of arguments\n",
        "printer.print_value(10)\n",
        "printer.print_value(\"Hello\")\n",
        "printer.print_value([1, 2, 3])"
      ],
      "metadata": {
        "colab": {
          "base_uri": "https://localhost:8080/"
        },
        "id": "Bwq2TIG6tW3M",
        "outputId": "2d178fbf-138c-4065-e2a0-d2f40f9aeaba"
      },
      "execution_count": null,
      "outputs": [
        {
          "output_type": "stream",
          "name": "stdout",
          "text": [
            "Integer: 10\n",
            "String: Hello\n",
            "List: [1, 2, 3]\n"
          ]
        }
      ]
    },
    {
      "cell_type": "markdown",
      "source": [
        "Ques:5 What are the three types of accesss modifiers in Python? How are they denoted?\n",
        "\n",
        "Ans:  There are three types of access modifiers to control the visibility and accessibility of class attributes and methods:\n",
        "\n",
        "1. Public\n",
        "\n",
        "Definition: Public members are accessible from any part of the program, inside or outside of the class.\n",
        "\n",
        "Denotation: No special prefix is needed. Any attribute or method defined without an underscore prefix is public by default.\n",
        "\n",
        "Example:\n",
        "\n"
      ],
      "metadata": {
        "id": "yf8hGJ-qtnXV"
      }
    },
    {
      "cell_type": "code",
      "source": [
        "class MyClass:\n",
        "    def __init__(self):\n",
        "        self.public_attr = \"I am public\"\n",
        "\n",
        "    def public_method(self):\n",
        "        print(\"This is a public method.\")\n",
        "\n",
        "obj = MyClass()\n",
        "print(obj.public_attr)\n",
        "obj.public_method()"
      ],
      "metadata": {
        "colab": {
          "base_uri": "https://localhost:8080/"
        },
        "id": "6dNi28NsuyHZ",
        "outputId": "07d19490-2475-4545-f45b-a3f31b8d0faa"
      },
      "execution_count": null,
      "outputs": [
        {
          "output_type": "stream",
          "name": "stdout",
          "text": [
            "I am public\n",
            "This is a public method.\n"
          ]
        }
      ]
    },
    {
      "cell_type": "markdown",
      "source": [
        "2. Protected\n",
        "\n",
        "Definition: Protected members are accessible within the class and its subclasses but are not meant to be accessed from outside the class hierarchy.\n",
        "\n",
        "Denotation: A single underscore prefix (_) before the attribute or method name (e.g., _protected_attr).\n",
        "\n",
        "Example:"
      ],
      "metadata": {
        "id": "og6N3Dutu6rC"
      }
    },
    {
      "cell_type": "code",
      "source": [
        "class MyClass:\n",
        "    def __init__(self):\n",
        "        self._protected_attr = \"I am protected\"\n",
        "\n",
        "    def _protected_method(self):\n",
        "        print(\"This is a protected method.\")\n",
        "\n",
        "obj = MyClass()\n",
        "print(obj._protected_attr)\n",
        "obj._protected_method()"
      ],
      "metadata": {
        "colab": {
          "base_uri": "https://localhost:8080/"
        },
        "id": "ITwsb9ywvIUe",
        "outputId": "4384e2d3-d88d-4618-a544-a93082e3b0fc"
      },
      "execution_count": null,
      "outputs": [
        {
          "output_type": "stream",
          "name": "stdout",
          "text": [
            "I am protected\n",
            "This is a protected method.\n"
          ]
        }
      ]
    },
    {
      "cell_type": "markdown",
      "source": [
        "3. Private\n",
        "\n",
        "Definition: Private members are accessible only within the class they are defined in and are not accessible from outside the class.\n",
        "\n",
        "Denotation: A double underscore prefix (__) before the attribute or method name (e.g., __private_attr).\n",
        "\n",
        "Example:"
      ],
      "metadata": {
        "id": "FApo1koYvU7p"
      }
    },
    {
      "cell_type": "code",
      "source": [
        "class MyClass:\n",
        "    def __init__(self):\n",
        "        self.__private_attr = \"I am private\"\n",
        "\n",
        "    def __private_method(self):\n",
        "        print(\"This is a private method.\")\n",
        "\n",
        "    def access_private(self):\n",
        "        print(self.__private_attr)\n",
        "        self.__private_method()\n",
        "\n",
        "obj = MyClass()\n",
        "obj.access_private()\n"
      ],
      "metadata": {
        "colab": {
          "base_uri": "https://localhost:8080/"
        },
        "id": "sZp9vc4Oxyjs",
        "outputId": "c1a6ba48-20cf-4f7e-d144-1eda778df953"
      },
      "execution_count": null,
      "outputs": [
        {
          "output_type": "stream",
          "name": "stdout",
          "text": [
            "I am private\n",
            "This is a private method.\n"
          ]
        }
      ]
    },
    {
      "cell_type": "markdown",
      "source": [
        "Ques.6 Describe the five types of inheritance in python .Provide a simple example of multiple inheritance.\n",
        "\n",
        "Ans.There are five types of inheritance that allow classes to inherit properties and behaviors from other classes:\n",
        "\n",
        "1. Single Inheritance\n",
        "\n",
        "A class inherits from a single parent class.\n",
        "\n",
        "Example: class B(A): where B inherits from A.\n",
        "\n",
        "2. Multiple Inheritance\n",
        "\n",
        "A class inherits from more than one parent class.\n",
        "\n",
        "Example: class C(A, B): where C inherits from both A and B.\n",
        "\n",
        "3. Multilevel Inheritance\n",
        "\n",
        "A class inherits from another class, which in turn inherits from another class, forming a chain.\n",
        "\n",
        "Example: class C(B): and class B(A):, forming a chain where C inherits from B, and B inherits from A.\n",
        "\n",
        "4. Hierarchical Inheritance\n",
        "\n",
        "Multiple classes inherit from a single parent class.\n",
        "\n",
        "Example:\n",
        "class B(A): and class C(A):, where both B and C inherit from A.\n",
        "\n",
        "5. Hybrid Inheritance\n",
        "\n",
        "A combination of two or more types of inheritance. It may involve complex inheritance structures.\n",
        "\n",
        "Example: Combining multiple and multilevel inheritance in one class hierarchy.\n",
        "\n",
        "Example of Multiple Inheritance"
      ],
      "metadata": {
        "id": "XrGXzgbryRIA"
      }
    },
    {
      "cell_type": "code",
      "source": [
        "class Engine:\n",
        "    def engine_type(self):\n",
        "        return \"Diesel Engine\"\n",
        "\n",
        "class Transmission:\n",
        "    def transmission_type(self):\n",
        "        return \"Automatic Transmission\"\n",
        "\n",
        "class Car(Engine, Transmission):\n",
        "    def car_info(self):\n",
        "        print(f\"This car has a {self.engine_type()} and an {self.transmission_type()}.\")\n",
        "\n",
        "# Creating an instance of Car\n",
        "my_car = Car()\n",
        "my_car.car_info()"
      ],
      "metadata": {
        "colab": {
          "base_uri": "https://localhost:8080/"
        },
        "id": "N8bZcTiS1D0D",
        "outputId": "6871b1e9-00ca-41e3-bad4-9fa757c633d2"
      },
      "execution_count": null,
      "outputs": [
        {
          "output_type": "stream",
          "name": "stdout",
          "text": [
            "This car has a Diesel Engine and an Automatic Transmission.\n"
          ]
        }
      ]
    },
    {
      "cell_type": "markdown",
      "source": [
        "Que.7 What is the Method Resolution Order (MRO)in Python?How can you retrieve it programmatically?\n",
        "\n",
        "Ans. The Method Resolution Order (MRO) in Python is the sequence in which Python looks up methods or attributes in a class hierarchy when a method is called. This order is particularly relevant in the context of multiple inheritance, where a class may have more than one parent. Python's MRO determines which parent class’s method will be invoked if multiple parents have a method with the same name.\n",
        "\n",
        "Key Aspects of MRO:\n",
        "\n",
        "1.Order of Searching:\n",
        "\n",
        "The MRO specifies the order in which classes are searched for a method or attribute, starting from the current class, moving to its parent classes (in left-to-right order for multiple inheritance), and proceeding up the hierarchy.\n",
        "\n",
        "2.C3 Linearization Algorithm:\n",
        "\n",
        "Python uses the C3 linearization algorithm (also known as the C3 superclass linearization) to calculate the MRO, which ensures that each class in the inheritance hierarchy appears only once in the order, maintaining consistency and preventing redundant lookups.\n",
        "\n",
        "3.Relevance in Multiple Inheritance:\n",
        "\n",
        "In cases of multiple inheritance, the MRO helps resolve potential conflicts by defining a consistent and predictable lookup order.\n",
        "\n",
        "\n",
        "Retrieving the MRO Programmatically\n",
        "\n",
        "\n",
        "You can retrieve the MRO of a class using either the __mro__ attribute or the mro() method.\n",
        "\n",
        "1.Using __mro__:\n",
        "\n",
        "The __mro__ attribute is a tuple that contains the MRO sequence for a given class."
      ],
      "metadata": {
        "id": "xnKmR3681_wV"
      }
    },
    {
      "cell_type": "code",
      "source": [
        "class ClassName:\n",
        "    pass\n",
        "\n",
        "print(ClassName.__mro__)"
      ],
      "metadata": {
        "id": "HjZqor6S4_EZ"
      },
      "execution_count": null,
      "outputs": []
    },
    {
      "cell_type": "markdown",
      "source": [
        "2.Using mro() Method:\n",
        "\n",
        "The mro() method returns a list of classes in the MRO order.\n"
      ],
      "metadata": {
        "id": "jnVqsnCi5Ufd"
      }
    },
    {
      "cell_type": "code",
      "source": [
        "print(ClassName.mro())"
      ],
      "metadata": {
        "id": "ftH9txaf5bOv"
      },
      "execution_count": null,
      "outputs": []
    },
    {
      "cell_type": "markdown",
      "source": [
        "Example of MRO with Multiple Inheritance"
      ],
      "metadata": {
        "id": "SdgFIgD25fU3"
      }
    },
    {
      "cell_type": "code",
      "source": [
        "class A:\n",
        "    def display(self):\n",
        "        print(\"Class A\")\n",
        "\n",
        "class B(A):\n",
        "    def display(self):\n",
        "        print(\"Class B\")\n",
        "\n",
        "class C(A):\n",
        "    def display(self):\n",
        "        print(\"Class C\")\n",
        "\n",
        "class D(B, C):  # D inherits from both B and C\n",
        "    pass\n",
        "\n",
        "# Creating an instance of D and calling display\n",
        "d = D()\n",
        "d.display()\n",
        "\n",
        "# Viewing the MRO of class D\n",
        "print(D.__mro__)\n",
        "print(D.mro())"
      ],
      "metadata": {
        "colab": {
          "base_uri": "https://localhost:8080/"
        },
        "id": "V-kn6cZ_5qo9",
        "outputId": "d97eb1f2-677c-40b6-b929-535d2abb8b91"
      },
      "execution_count": null,
      "outputs": [
        {
          "output_type": "stream",
          "name": "stdout",
          "text": [
            "Class B\n",
            "(<class '__main__.D'>, <class '__main__.B'>, <class '__main__.C'>, <class '__main__.A'>, <class 'object'>)\n",
            "[<class '__main__.D'>, <class '__main__.B'>, <class '__main__.C'>, <class '__main__.A'>, <class 'object'>]\n"
          ]
        }
      ]
    },
    {
      "cell_type": "markdown",
      "source": [
        "Que.8 Create an abstract base class 'Shape' with an abstract method 'area()'. Then create two  subclasses 'Circle' and 'Rectangle' that implementation the 'area ()' method.\n",
        "\n",
        "Ans. An example of an abstract base class Shape with an abstract method area(), and two subclasses, Circle and Rectangle, that implement the area() method.\n",
        "\n",
        "We’ll use the abc module in Python, which allows us to create abstract base classes.\n",
        "**bold text**"
      ],
      "metadata": {
        "id": "_yTf_jB85-mP"
      }
    },
    {
      "cell_type": "code",
      "source": [
        "from abc import ABC, abstractmethod\n",
        "import math\n",
        "\n",
        "# Abstract base class\n",
        "class Shape(ABC):\n",
        "    @abstractmethod\n",
        "    def area(self):\n",
        "        pass\n",
        "\n",
        "# Circle class\n",
        "class Circle(Shape):\n",
        "    def __init__(self, radius):\n",
        "        self.radius = radius\n",
        "\n",
        "    def area(self):\n",
        "        return math.pi * (self.radius ** 2)\n",
        "\n",
        "# Rectangle class\n",
        "class Rectangle(Shape):\n",
        "    def __init__(self, width, height):\n",
        "        self.width = width\n",
        "        self.height = height\n",
        "\n",
        "    def area(self):\n",
        "        return self.width * self.height\n",
        "\n",
        "# Example usage\n",
        "circle = Circle(5)\n",
        "rectangle = Rectangle(4, 6)\n",
        "print(\"Circle area:\", circle.area())\n",
        "print(\"Rectangle area:\", rectangle.area())"
      ],
      "metadata": {
        "colab": {
          "base_uri": "https://localhost:8080/"
        },
        "id": "FllIvPA09cN6",
        "outputId": "95b3ef6b-eed4-43a9-d098-a4ed61630a53"
      },
      "execution_count": null,
      "outputs": [
        {
          "output_type": "stream",
          "name": "stdout",
          "text": [
            "Circle area: 78.53981633974483\n",
            "Rectangle area: 24\n"
          ]
        }
      ]
    },
    {
      "cell_type": "markdown",
      "source": [
        "Ques.9 Demonstrate polymorphism by creating a function that can work with different shape object to calculate and print their areas.\n",
        "\n",
        "Ans.Polymorphism allows us to design functions that can work with objects of different types as long as they implement a common interface. In this example, we’ll create a function called print_area() that accepts any shape object and calculates its area, regardless of the shape type (e.g., Circle, Rectangle)."
      ],
      "metadata": {
        "id": "EK2t5-N4-Dhv"
      }
    },
    {
      "cell_type": "code",
      "source": [
        "from abc import ABC, abstractmethod\n",
        "import math\n",
        "\n",
        "# Abstract base class\n",
        "class Shape(ABC):\n",
        "    @abstractmethod\n",
        "    def area(self):\n",
        "        pass\n",
        "\n",
        "# Circle class\n",
        "class Circle(Shape):\n",
        "    def __init__(self, radius):\n",
        "        self.radius = radius\n",
        "\n",
        "    def area(self):\n",
        "        return math.pi * (self.radius ** 2)\n",
        "\n",
        "# Rectangle class\n",
        "class Rectangle(Shape):\n",
        "    def __init__(self, width, height):\n",
        "        self.width = width\n",
        "        self.height = height\n",
        "\n",
        "    def area(self):\n",
        "        return self.width * self.height\n",
        "\n",
        "# Triangle class\n",
        "class Triangle(Shape):\n",
        "    def __init__(self, base, height):\n",
        "        self.base = base\n",
        "        self.height = height\n",
        "\n",
        "    def area(self):\n",
        "        return 0.5 * self.base * self.height\n",
        "\n",
        "# Polymorphic function to calculate and print area\n",
        "def print_area(shape):\n",
        "    print(f\"The area of the shape is: {shape.area()}\")\n",
        "\n",
        "# Example usage with polymorphism\n",
        "circle = Circle(5)\n",
        "rectangle = Rectangle(4, 6)\n",
        "triangle = Triangle(3, 8)\n",
        "\n",
        "# Calling print_area with different shapes\n",
        "print_area(circle)\n",
        "print_area(rectangle)\n",
        "print_area(triangle)"
      ],
      "metadata": {
        "colab": {
          "base_uri": "https://localhost:8080/"
        },
        "id": "Du41I6VuAQPC",
        "outputId": "c3fcd2c6-eea5-49fb-f313-1845ea62c421"
      },
      "execution_count": null,
      "outputs": [
        {
          "output_type": "stream",
          "name": "stdout",
          "text": [
            "The area of the shape is: 78.53981633974483\n",
            "The area of the shape is: 24\n",
            "The area of the shape is: 12.0\n"
          ]
        }
      ]
    },
    {
      "cell_type": "markdown",
      "source": [
        "Que.10 Implement encapsulation in a 'BankAccount' class with private atrribute for 'balance' and 'account_number'.Include methods for deposit, withdrawal,and balance inquiry\n",
        "\n",
        "Ans. Python implementation of a BankAccount class that demonstrates encapsulation by using private attributes for balance and account_number. The class includes methods for deposit, withdrawal, and balance inquiry."
      ],
      "metadata": {
        "id": "r4-Z_HygAmoB"
      }
    },
    {
      "cell_type": "code",
      "source": [
        "class BankAccount:\n",
        "    def __init__(self, account_number, initial_balance=0):\n",
        "        self.__account_number = account_number  # Private attribute\n",
        "        self.__balance = initial_balance         # Private attribute\n",
        "\n",
        "    def deposit(self, amount):\n",
        "        if amount > 0:\n",
        "            self.__balance += amount\n",
        "            print(f\"Deposited: ${amount}. New balance: ${self.__balance}.\")\n",
        "        else:\n",
        "            print(\"Deposit amount must be positive.\")\n",
        "\n",
        "    def withdrawal(self, amount):\n",
        "        if 0 < amount <= self.__balance:\n",
        "            self.__balance -= amount\n",
        "            print(f\"Withdrew: ${amount}. New balance: ${self.__balance}.\")\n",
        "        else:\n",
        "            print(\"Withdrawal amount must be positive and less than or equal to the balance.\")\n",
        "\n",
        "    def balance_inquiry(self):\n",
        "        print(f\"Account Number: {self.__account_number}, Balance: ${self.__balance}.\")\n",
        "\n",
        "# Example usage\n",
        "account = BankAccount(\"123456789\", 1000)\n",
        "# Balance inquiry\n",
        "account.balance_inquiry()\n",
        "\n",
        "# Deposit money\n",
        "account.deposit(500)\n",
        "\n",
        "# Withdraw money\n",
        "account.withdrawal(200)\n",
        "\n",
        "# Attempt to withdraw more than the balance\n",
        "account.withdrawal(1500)\n",
        "# Check balance again\n",
        "account.balance_inquiry()"
      ],
      "metadata": {
        "colab": {
          "base_uri": "https://localhost:8080/"
        },
        "id": "YOWWa9cbDxqK",
        "outputId": "956f0f3c-4fa1-4158-9f07-e63953af6264"
      },
      "execution_count": null,
      "outputs": [
        {
          "output_type": "stream",
          "name": "stdout",
          "text": [
            "Account Number: 123456789, Balance: $1000.\n",
            "Deposited: $500. New balance: $1500.\n",
            "Withdrew: $200. New balance: $1300.\n",
            "Withdrawal amount must be positive and less than or equal to the balance.\n",
            "Account Number: 123456789, Balance: $1300.\n"
          ]
        }
      ]
    },
    {
      "cell_type": "markdown",
      "source": [
        "Ques.11 Write a class that overrides the '__str__'add__'magic methods.What will these methods allow you to do?\n",
        "\n",
        "Ans. The __str__ and __add__ magic methods allow you to define custom behavior for string representation and addition operations, respectively.\n",
        "\n",
        "1.__str__ Method:\n",
        "\n",
        "This method is called by the str() built-in function and by the print() function to obtain a string representation of an object. By overriding __str__, you can provide a meaningful description of your object when it is printed or converted to a string.\n",
        "\n",
        "2.__add__ Method:\n",
        "\n",
        "This method is called when you use the + operator between two objects of your class. By overriding __add__, you can define how to add two instances of your class together.\n",
        "\n",
        "Example Class Implementation\n",
        "\n",
        " a simple example of a Vector class that overrides both the __str__ and __add__ magic methods:\n"
      ],
      "metadata": {
        "id": "pU8qlCxEEXhv"
      }
    },
    {
      "cell_type": "code",
      "source": [
        "class Vector:\n",
        "    def __init__(self, x, y):\n",
        "        self.x = x\n",
        "        self.y = y\n",
        "\n",
        "    def __str__(self):\n",
        "        return f\"Vector({self.x}, {self.y})\"\n",
        "\n",
        "    def __add__(self, other):\n",
        "        if isinstance(other, Vector):\n",
        "            return Vector(self.x + other.x, self.y + other.y)\n",
        "        return NotImplemented  # Return NotImplemented for unsupported types\n",
        "\n",
        "# Example usage\n",
        "v1 = Vector(2, 3)\n",
        "v2 = Vector(4, 5)\n",
        "\n",
        "# Using the __str__ method\n",
        "print(v1)\n",
        "# Using the __add__ method\n",
        "v3 = v1 + v2\n",
        "print(v3)"
      ],
      "metadata": {
        "colab": {
          "base_uri": "https://localhost:8080/"
        },
        "id": "LLIgp_ZuF8Fc",
        "outputId": "a447554b-6870-4e21-9d61-6d31e4d237d2"
      },
      "execution_count": null,
      "outputs": [
        {
          "output_type": "stream",
          "name": "stdout",
          "text": [
            "Vector(2, 3)\n",
            "Vector(6, 8)\n"
          ]
        }
      ]
    },
    {
      "cell_type": "markdown",
      "source": [
        "Que.12 create a decorator that measures and prints the execution time of a function.\n",
        "\n",
        "Ans. This decorator will print the execution time when the decorated function is called.\n"
      ],
      "metadata": {
        "id": "xYXAdJneGKiY"
      }
    },
    {
      "cell_type": "code",
      "source": [
        "import time\n",
        "\n",
        "def execution_time_decorator(func):\n",
        "    def wrapper(*args, **kwargs):\n",
        "        start_time = time.time()  # Record the start time\n",
        "        result = func(*args, **kwargs)  # Call the original function\n",
        "        end_time = time.time()  # Record the end time\n",
        "        execution_time = end_time - start_time  # Calculate the execution time\n",
        "        print(f\"Execution time of {func.__name__}: {execution_time:.6f} seconds\")\n",
        "        return result  # Return the result of the original function\n",
        "    return wrapper\n",
        "\n",
        "# Example usage of the decorator\n",
        "@execution_time_decorator\n",
        "def some_heavy_computation(n):\n",
        "    total = 0\n",
        "    for i in range(n):\n",
        "        total += i ** 2  # Some computation\n",
        "    return total\n",
        "\n",
        "# Call the decorated function\n",
        "result = some_heavy_computation(1000000)\n",
        "print(f\"Result: {result}\")"
      ],
      "metadata": {
        "colab": {
          "base_uri": "https://localhost:8080/"
        },
        "id": "3czVbvw0JS6z",
        "outputId": "2230476f-2bfc-49ae-dea6-986262370472"
      },
      "execution_count": null,
      "outputs": [
        {
          "output_type": "stream",
          "name": "stdout",
          "text": [
            "Execution time of some_heavy_computation: 0.330588 seconds\n",
            "Result: 333332833333500000\n"
          ]
        }
      ]
    },
    {
      "cell_type": "markdown",
      "source": [
        "Ques.13 Explain the concept of the Diamond Problem in multiple inheritance.How does python resolve it?\n",
        "\n",
        "Ans. The Diamond Problem is a common issue that arises in multiple inheritance scenarios, particularly in object-oriented programming. It occurs when a class inherits from two classes that both inherit from a common ancestor, creating a diamond-shaped inheritance structure. This can lead to ambiguity regarding which superclass method or property should be inherited by the subclass.\n",
        "\n",
        "Diamond Problem Illustration\n",
        "\n",
        "Here's a simple diagram to illustrate the Diamond Problem:\n",
        "\n"
      ],
      "metadata": {
        "id": "zm2OZKwsJnUp"
      }
    },
    {
      "cell_type": "code",
      "source": [
        "      A\n",
        "     / \\\n",
        "    B   C\n",
        "     \\ /\n",
        "      D"
      ],
      "metadata": {
        "id": "gyTGVEUkLKOv"
      },
      "execution_count": null,
      "outputs": []
    },
    {
      "cell_type": "markdown",
      "source": [
        "In this structure:\n",
        "\n",
        "Class A is the base class.\n",
        "\n",
        "Classes B and C both inherit from A.\n",
        "\n",
        "Class D inherits from both B and C.\n",
        "\n",
        "The problem arises when class D tries to call a method or access a property from class A. The interpreter needs to determine whether to use the version from B or the version from C.\n",
        "\n",
        "Python's Resolution of the Diamond Problem\n",
        "\n",
        "Python resolves the Diamond Problem using the Method Resolution Order (MRO), which is defined by the C3 linearization algorithm. This algorithm provides a consistent order of class resolution, ensuring that each class is only accessed once, and it respects the order of inheritance.\n",
        "\n",
        "Example to Illustrate the Diamond Problem\n",
        "\n",
        "an example to demonstrate the Diamond Problem and how Python resolves it:"
      ],
      "metadata": {
        "id": "22jrbsLzLavM"
      }
    },
    {
      "cell_type": "code",
      "source": [
        "class A:\n",
        "    def display(self):\n",
        "        print(\"Class A\")\n",
        "\n",
        "class B(A):\n",
        "    def display(self):\n",
        "        print(\"Class B\")\n",
        "\n",
        "class C(A):\n",
        "    def display(self):\n",
        "        print(\"Class C\")\n",
        "\n",
        "class D(B, C):\n",
        "    pass\n",
        "\n",
        "# Create an instance of D\n",
        "d = D()\n",
        "\n",
        "# Call the display method\n",
        "d.display()\n",
        "\n",
        "# Check the MRO for class D\n",
        "print(D.__mro__)\n"
      ],
      "metadata": {
        "colab": {
          "base_uri": "https://localhost:8080/"
        },
        "id": "yRGhZDuiM8-I",
        "outputId": "56c1a134-976f-46a9-eb35-f69f1c684067"
      },
      "execution_count": null,
      "outputs": [
        {
          "output_type": "stream",
          "name": "stdout",
          "text": [
            "Class B\n",
            "(<class '__main__.D'>, <class '__main__.B'>, <class '__main__.C'>, <class '__main__.A'>, <class 'object'>)\n"
          ]
        }
      ]
    },
    {
      "cell_type": "markdown",
      "source": [
        "Que.14 Write a class method that keeps track of the number of instances created from a class.\n",
        "\n",
        "Ans. To keep track of the number of instances created from a class, you can use a class variable that increments each time a new instance is created. This can be implemented using a class method to access the count of instances.\n",
        "\n",
        "Here's an example of how to implement this:"
      ],
      "metadata": {
        "id": "88PmmO6SNHLL"
      }
    },
    {
      "cell_type": "code",
      "source": [
        "class InstanceCounter:\n",
        "    # Class variable to keep track of the number of instances\n",
        "    instance_count = 0\n",
        "\n",
        "    def __init__(self):\n",
        "        # Increment the instance count each time a new instance is created\n",
        "        InstanceCounter.instance_count += 1\n",
        "\n",
        "    @classmethod\n",
        "    def get_instance_count(cls):\n",
        "        \"\"\"Class method to return the current instance count.\"\"\"\n",
        "        return cls.instance_count\n",
        "\n",
        "# Example usage\n",
        "obj1 = InstanceCounter()\n",
        "obj2 = InstanceCounter()\n",
        "obj3 = InstanceCounter()\n",
        "\n",
        "# Get the number of instances created\n",
        "print(f\"Number of instances created: {InstanceCounter.get_instance_count()}\")"
      ],
      "metadata": {
        "id": "kyi3Wu6rPOie",
        "colab": {
          "base_uri": "https://localhost:8080/"
        },
        "outputId": "396d5f70-b2ef-43a4-bfa6-fb26ab086a47"
      },
      "execution_count": 20,
      "outputs": [
        {
          "output_type": "stream",
          "name": "stdout",
          "text": [
            "Number of instances created: 3\n"
          ]
        }
      ]
    },
    {
      "cell_type": "markdown",
      "source": [
        "Que.15.Implement a static method in a class that checks if a given year is a leap year.\n",
        "\n",
        "Ans. You can implement a static method in a class that checks whether a given year is a leap year. A leap year is defined by the following rules:\n",
        "\n",
        "A year is a leap year if it is divisible by 4.\n",
        "\n",
        "However, if the year is divisible by 100, it is not a leap year, unless it is also divisible by 400.\n",
        ""
      ],
      "metadata": {
        "id": "ZCsv-vVmRCPJ"
      }
    },
    {
      "cell_type": "code",
      "source": [
        "class YearChecker:\n",
        "    @staticmethod\n",
        "    def is_leap_year(year):\n",
        "        \"\"\"Static method to check if a given year is a leap year.\"\"\"\n",
        "        if (year % 4 == 0 and year % 100 != 0) or (year % 400 == 0):\n",
        "            return True\n",
        "        return False\n",
        "\n",
        "# Example usage\n",
        "year_to_check = 2024\n",
        "if YearChecker.is_leap_year(year_to_check):\n",
        "    print(f\"{year_to_check} is a leap year.\")\n",
        "else:\n",
        "    print(f\"{year_to_check} is not a leap year.\")\n",
        "\n",
        "year_to_check = 1900\n",
        "if YearChecker.is_leap_year(year_to_check):\n",
        "    print(f\"{year_to_check} is a leap year.\")\n",
        "else:\n",
        "    print(f\"{year_to_check} is not a leap year.\")\n",
        "\n",
        "year_to_check = 2000\n",
        "if YearChecker.is_leap_year(year_to_check):\n",
        "    print(f\"{year_to_check} is a leap year.\")\n",
        "else:\n",
        "    print(f\"{year_to_check} is not a leap year.\")"
      ],
      "metadata": {
        "colab": {
          "base_uri": "https://localhost:8080/"
        },
        "id": "kdyQfG1JRy5m",
        "outputId": "d152abf9-39fe-4b89-9565-8a4fcd1e3f44"
      },
      "execution_count": 21,
      "outputs": [
        {
          "output_type": "stream",
          "name": "stdout",
          "text": [
            "2024 is a leap year.\n",
            "1900 is not a leap year.\n",
            "2000 is a leap year.\n"
          ]
        }
      ]
    },
    {
      "cell_type": "markdown",
      "source": [
        "This implementation effectively checks for leap years using a static method, allowing for easy usage without needing to instantiate the class."
      ],
      "metadata": {
        "id": "H9762bQiSAsk"
      }
    }
  ]
}